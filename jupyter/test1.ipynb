{
 "cells": [
  {
   "cell_type": "code",
   "execution_count": 245,
   "metadata": {},
   "outputs": [],
   "source": [
    "import tensorflow as tf\n",
    "import numpy as np\n",
    "import pandas as pd\n",
    "from olddatasetclass import Dataset\n",
    "from oldmodel import get_model, Args\n",
    "import math"
   ]
  },
  {
   "cell_type": "code",
   "execution_count": 75,
   "metadata": {},
   "outputs": [],
   "source": [
    "args = Args()\n",
    "num_users = 943\n",
    "num_items = 1682\n",
    "model = get_model(num_users, num_items, args.num_factors, \n",
    "                  eval(args.layers), eval(args.reg_layers), eval(args.reg_mf))"
   ]
  },
  {
   "cell_type": "code",
   "execution_count": 76,
   "metadata": {},
   "outputs": [],
   "source": [
    "dataset = Dataset(args.path, args.dataset)\n",
    "train, testRatings, testNegatives = dataset.train_ratings, dataset.test_ratings, dataset.negatives"
   ]
  },
  {
   "cell_type": "code",
   "execution_count": 119,
   "metadata": {},
   "outputs": [
    {
     "name": "stdout",
     "output_type": "stream",
     "text": [
      "[[ 590  299 1252 1060  841 1127  779  952  839 1246 1097  631 1323  930\n",
      "   853  316  420 1635  719  543 1131  506  672 1325 1024  660  546  462\n",
      "  1443 1174  637  817  729 1462 1601 1650  576 1204 1544  770  594  572\n",
      "   569 1554  556  407 1082  317  422  761 1617  907  275  434 1591  804\n",
      "   610 1069  983 1600 1436 1456  302 1569 1360  636  675 1002  791  708\n",
      "  1136 1665  442 1597 1616  790  908  892 1680 1013 1012  289  604  310\n",
      "   685 1589  912 1489  430  573  806  901  970  944  668 1469  315 1608\n",
      "  1334]\n",
      " [  44  672 1577  390 1148  450  167 1262  631  748  549 1188  445  472\n",
      "  1518  669  976   74  661  766 1637  237  478  466 1172  321 1567 1650\n",
      "  1627 1314 1488  726  139  587  523  147  473 1383 1365 1132   61 1446\n",
      "  1080 1503  673  603 1018  607 1176  875 1411  776 1034 1286 1194 1302\n",
      "   997  940 1473   93  327  659 1119 1531 1371  711   69 1033 1131 1284\n",
      "   173  567  425 1447  761  553  903 1281 1584  815  395  918  584 1660\n",
      "   744 1029 1316  207 1494 1327 1057  231 1078  540 1375 1368  634  536\n",
      "  1576]\n",
      " [ 673 1547 1460   83 1628  753  190  296  887  503 1445   25  665  699\n",
      "    45 1458  534  751 1190  896 1331  277  418 1162 1040  787  834 1617\n",
      "   808  669  367  601  844  964  222   58 1405 1516  748   11  480 1446\n",
      "   551 1077 1266 1657 1333 1651  664  245  813  936  817 1106 1152  240\n",
      "   758  355 1676  314  437    0 1201  108 1518 1366  653  788  602  754\n",
      "  1112  924  502 1369 1182  552  698  447 1239  116  595  167 1163  620\n",
      "   236 1677 1251 1537  162 1119  292  850  872  599  155 1359  526 1085\n",
      "   623]\n",
      " [ 388 1060  386  530 1099 1499  120 1388 1181 1324 1122  757  579 1552\n",
      "   598  292  421 1342   92  739 1018  588  229  923 1591  907  743 1111\n",
      "   786 1593 1539  345  102 1348 1585  913 1375  187  101 1574  956 1008\n",
      "   619 1339  871  197 1078   88 1252  708 1592 1058 1243  994 1615 1145\n",
      "   352   84 1405  462  751 1389  618  944  236  159 1477 1105  587 1424\n",
      "   808 1480 1661 1068  790  319 1106 1512   66  173  432  647  277 1268\n",
      "  1204  591  301 1638 1108  738 1431  926 1562  575 1101  766 1563  341\n",
      "  1463]\n",
      " [  53  346   67  707 1624  692  889 1418 1347 1252 1604  862 1019  336\n",
      "   211 1034 1557   83 1272 1138 1468  285  280  219 1248 1041   12  740\n",
      "  1052 1226  678 1148 1586 1355 1069  987 1479 1638 1602   74 1471 1018\n",
      "  1300  591 1647  981   17  312  116  849 1567 1063   63  348  564  689\n",
      "  1486 1556  490  509 1336  859 1188  884   27  953 1577  318  736  112\n",
      "  1500  650  117 1201 1399  460  753  994  713 1641 1262 1461  835  194\n",
      "    87   34  745  163  539  731  969  494  585 1494 1668  700  178  556\n",
      "   752]]\n"
     ]
    },
    {
     "data": {
      "text/plain": [
       "(943, 99)"
      ]
     },
     "execution_count": 119,
     "metadata": {},
     "output_type": "execute_result"
    }
   ],
   "source": [
    "testNegatives_array = testNegatives.iloc[:, 1].tolist()\n",
    "testNegatives_array = np.asarray(testNegatives_array)\n",
    "print(testRatings_array[0:5])\n",
    "testNegatives_array.shape"
   ]
  },
  {
   "cell_type": "code",
   "execution_count": 120,
   "metadata": {},
   "outputs": [
    {
     "name": "stdout",
     "output_type": "stream",
     "text": [
      "[[101]\n",
      " [280]\n",
      " [319]\n",
      " [ 10]\n",
      " [456]]\n"
     ]
    },
    {
     "data": {
      "text/plain": [
       "(943, 1)"
      ]
     },
     "execution_count": 120,
     "metadata": {},
     "output_type": "execute_result"
    }
   ],
   "source": [
    "testRatings_array = testRatings.iloc[:, 1].values.reshape((-1, 1))\n",
    "print(testRatings_array[0:5])\n",
    "testRatings_array.shape"
   ]
  },
  {
   "cell_type": "code",
   "execution_count": 172,
   "metadata": {},
   "outputs": [
    {
     "name": "stdout",
     "output_type": "stream",
     "text": [
      "[[ 101  590  299 ...  315 1608 1334]\n",
      " [ 280   44  672 ...  634  536 1576]\n",
      " [ 319  673 1547 ...  526 1085  623]\n",
      " ...\n",
      " [   0  903  345 ... 1629  418  663]\n",
      " [ 661 1175  956 ...  490  885  124]\n",
      " [ 233 1268 1243 ... 1101  695  178]]\n"
     ]
    },
    {
     "data": {
      "text/plain": [
       "(943, 100)"
      ]
     },
     "execution_count": 172,
     "metadata": {},
     "output_type": "execute_result"
    }
   ],
   "source": [
    "testSamples = np.concatenate((testRatings_array, testNegatives_array), axis=1)\n",
    "print(testSamples)\n",
    "testSamples.shape"
   ]
  },
  {
   "cell_type": "code",
   "execution_count": 173,
   "metadata": {},
   "outputs": [],
   "source": [
    "shape = testSamples.shape\n",
    "testSamples = testSamples.reshape(-1, 1)\n",
    "userSamples = np.asarray(range(shape[0])).repeat(shape[1])"
   ]
  },
  {
   "cell_type": "markdown",
   "metadata": {},
   "source": [
    "Initiate inputs with `testSamples`"
   ]
  },
  {
   "cell_type": "code",
   "execution_count": 182,
   "metadata": {},
   "outputs": [
    {
     "name": "stdout",
     "output_type": "stream",
     "text": [
      "[[0.5036962  0.5019878  0.50089216 ... 0.5016976  0.5032916  0.50249535]\n",
      " [0.50528663 0.5036458  0.50047773 ... 0.5022622  0.50067204 0.5034733 ]\n",
      " [0.50134766 0.49868655 0.49893048 ... 0.49891677 0.50242317 0.49997872]\n",
      " ...\n",
      " [0.5006457  0.5015409  0.5014249  ... 0.4999535  0.5006036  0.50078374]\n",
      " [0.5052906  0.50257695 0.5045334  ... 0.50702035 0.5022472  0.50407714]\n",
      " [0.5073326  0.50071734 0.50729036 ... 0.5033837  0.5038245  0.506637  ]]\n"
     ]
    },
    {
     "data": {
      "text/plain": [
       "(943, 100)"
      ]
     },
     "execution_count": 182,
     "metadata": {},
     "output_type": "execute_result"
    }
   ],
   "source": [
    "predictions = model.predict([userSamples, testSamples], batch_size=256)\n",
    "# sess = tf.Session()\n",
    "# sess.run(tf.global_variables_initializer())\n",
    "# sess.run(out)\n",
    "predictions = predictions.reshape(shape)\n",
    "print(predictions)\n",
    "predictions.shape"
   ]
  },
  {
   "cell_type": "code",
   "execution_count": 210,
   "metadata": {},
   "outputs": [],
   "source": [
    "def isFirstK(array, K=10):\n",
    "    \"\"\"check if the first element ranks in first K\n",
    "    \"\"\"\n",
    "    # argsort find the index of K largest elements\n",
    "    topK = array.argsort()[-K:]\n",
    "    # find if 0 is in the largest K\n",
    "    out = 1 if (0 in topK) else 0\n",
    "    return out"
   ]
  },
  {
   "cell_type": "code",
   "execution_count": 211,
   "metadata": {},
   "outputs": [
    {
     "data": {
      "text/plain": [
       "(943,)"
      ]
     },
     "execution_count": 211,
     "metadata": {},
     "output_type": "execute_result"
    }
   ],
   "source": [
    "out = np.apply_along_axis(isFirstK, axis=1, arr=predictions)\n",
    "out.shape"
   ]
  },
  {
   "cell_type": "code",
   "execution_count": 214,
   "metadata": {},
   "outputs": [
    {
     "data": {
      "text/plain": [
       "0.0975609756097561"
      ]
     },
     "execution_count": 214,
     "metadata": {},
     "output_type": "execute_result"
    }
   ],
   "source": [
    "sum(out)/len(out)"
   ]
  },
  {
   "cell_type": "code",
   "execution_count": 215,
   "metadata": {},
   "outputs": [],
   "source": [
    "topK = np.flip(array.argsort()[-K:])"
   ]
  },
  {
   "cell_type": "code",
   "execution_count": 216,
   "metadata": {},
   "outputs": [
    {
     "data": {
      "text/plain": [
       "array([38, 92, 55, 43, 66, 54, 76, 20, 37, 63])"
      ]
     },
     "execution_count": 216,
     "metadata": {},
     "output_type": "execute_result"
    }
   ],
   "source": [
    "topK"
   ]
  },
  {
   "cell_type": "code",
   "execution_count": 217,
   "metadata": {},
   "outputs": [
    {
     "data": {
      "text/plain": [
       "array([63, 37, 20, 76, 54, 66, 43, 55, 92, 38])"
      ]
     },
     "execution_count": 217,
     "metadata": {},
     "output_type": "execute_result"
    }
   ],
   "source": [
    "array.argsort()[-K:]"
   ]
  },
  {
   "cell_type": "code",
   "execution_count": 247,
   "metadata": {},
   "outputs": [],
   "source": [
    "a,= np.where(array.argsort()[-K:] == 63)"
   ]
  },
  {
   "cell_type": "code",
   "execution_count": 248,
   "metadata": {},
   "outputs": [
    {
     "data": {
      "text/plain": [
       "1.0"
      ]
     },
     "execution_count": 248,
     "metadata": {},
     "output_type": "execute_result"
    }
   ],
   "source": [
    "math.log(2) / math.log(a[0] + 2)"
   ]
  },
  {
   "cell_type": "code",
   "execution_count": 237,
   "metadata": {},
   "outputs": [
    {
     "data": {
      "text/plain": [
       "array([0])"
      ]
     },
     "execution_count": 237,
     "metadata": {},
     "output_type": "execute_result"
    }
   ],
   "source": [
    "a"
   ]
  },
  {
   "cell_type": "code",
   "execution_count": 238,
   "metadata": {},
   "outputs": [
    {
     "data": {
      "text/plain": [
       "False"
      ]
     },
     "execution_count": 238,
     "metadata": {},
     "output_type": "execute_result"
    }
   ],
   "source": [
    "a[0] is None"
   ]
  },
  {
   "cell_type": "code",
   "execution_count": 242,
   "metadata": {},
   "outputs": [
    {
     "data": {
      "text/plain": [
       "0"
      ]
     },
     "execution_count": 242,
     "metadata": {},
     "output_type": "execute_result"
    }
   ],
   "source": [
    "len(a)"
   ]
  },
  {
   "cell_type": "code",
   "execution_count": null,
   "metadata": {},
   "outputs": [],
   "source": []
  }
 ],
 "metadata": {
  "kernelspec": {
   "display_name": "Python 3",
   "language": "python",
   "name": "python3"
  },
  "language_info": {
   "codemirror_mode": {
    "name": "ipython",
    "version": 3
   },
   "file_extension": ".py",
   "mimetype": "text/x-python",
   "name": "python",
   "nbconvert_exporter": "python",
   "pygments_lexer": "ipython3",
   "version": "3.6.8"
  }
 },
 "nbformat": 4,
 "nbformat_minor": 2
}
